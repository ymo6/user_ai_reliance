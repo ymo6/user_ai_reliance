{
 "cells": [
  {
   "cell_type": "code",
   "execution_count": 475,
   "metadata": {},
   "outputs": [],
   "source": [
    "import numpy as np\n",
    "import pandas as pd\n",
    "import matplotlib.pyplot as plt\n",
    "import math\n",
    "from sklearn import preprocessing, svm\n",
    "from sklearn.model_selection import train_test_split\n",
    "from sklearn.linear_model import LinearRegression\n",
    "from sklearn.datasets import make_regression\n",
    "from sklearn.metrics import mean_squared_error\n",
    "from sklearn.tree import DecisionTreeClassifier\n",
    "from sklearn.model_selection import KFold, cross_val_score\n",
    "from sklearn.decomposition import PCA\n",
    "from sklearn.linear_model import LinearRegression\n",
    "import statsmodels.api as sm\n",
    "import pandas as pd\n",
    "import scipy\n",
    "from sklearn.preprocessing import StandardScaler"
   ]
  },
  {
   "cell_type": "code",
   "execution_count": 3,
   "metadata": {},
   "outputs": [],
   "source": [
    "path = '/Users/alexandra/Desktop/ML research/'"
   ]
  },
  {
   "attachments": {},
   "cell_type": "markdown",
   "metadata": {},
   "source": [
    "linear mixed affect"
   ]
  },
  {
   "cell_type": "code",
   "execution_count": 903,
   "metadata": {},
   "outputs": [
    {
     "name": "stdout",
     "output_type": "stream",
     "text": [
      "mean_squared_error: 0.09691301893428347\n",
      "-300.3984035889068\n"
     ]
    }
   ],
   "source": [
    "y_48 = pd.read_excel(path + 'features.xlsx', usecols=['Final user-ai agreement on task'])\n",
    "x_48 = pd.read_excel(path + 'features.xlsx', \n",
    "                  usecols=[\n",
    " \n",
    "                        'Orientation'  \n",
    "                        ])\n",
    "\n",
    "\n",
    "x_train, x_test, y_train, y_test = train_test_split(x_48, y_48, test_size= 0.11, shuffle = False)\n",
    "\n",
    "reg = LinearRegression().fit(x_train, y_train)\n",
    "y_hat = reg.predict(x_test)\n",
    "\n",
    "r_square = mean_squared_error(y_test, y_hat)\n",
    "print(f\"mean_squared_error: {r_square}\")\n",
    "\n",
    "full_model = sm.OLS(y_train, x_train).fit()\n",
    "\n",
    "#calculate log-likelihood of model\n",
    "full_ll = full_model.llf\n",
    "\n",
    "print(full_ll)\n"
   ]
  },
  {
   "cell_type": "code",
   "execution_count": 900,
   "metadata": {},
   "outputs": [
    {
     "name": "stdout",
     "output_type": "stream",
     "text": [
      " mean_squared_error: 0.02538215534592999\n",
      "111.46911788695496\n",
      "2.014968547126955\n",
      "0.3651364084032396\n"
     ]
    }
   ],
   "source": [
    "y_48 = pd.read_excel(path + 'features.xlsx', usecols=['Final user-ai agreement on task'])\n",
    "x_48 = pd.read_excel(path + 'features.xlsx', \n",
    "                  usecols=[\n",
    "                        'total_duration', \n",
    "                        #'Trust', *\n",
    "                        'Familiarity',  \n",
    "                        #'percent_gaze_duration_on_ai', *\n",
    "                        'percent_duration_user',  \n",
    "                        #'first_gaze_on_ai_start_time', *\n",
    "                        #'first_gaze_on_ai_duration', *\n",
    "                        #'percent_shift_ai2task',  *\n",
    "                        #'percent_shift_ai2user',  *\n",
    "                        #'percent_shift_task2user', *\n",
    "                        #'percent_shift_task2ai', *\n",
    "                        #'percent_shift_user2ai',  *\n",
    "                        #'percent_shift_user2task', \n",
    "                        'percent_shift_2ai', \n",
    "                        #'percent_shift_2user',  #*\n",
    "                        'start_user_ai_acc', \n",
    "                        #'Orientation' #*\n",
    "                        ])\n",
    "\n",
    "\n",
    "#objectx = StandardScaler().fit(x_48)\n",
    "#objecty = StandardScaler().fit(y_48)\n",
    "#x_48 = objectx.fit_transform(x_48)\n",
    "#y_48 = objecty.fit_transform(x_48)\n",
    "\n",
    "x_train, x_test, y_train, y_test = train_test_split(x_48, y_48, test_size= 0.11, shuffle = False)\n",
    "\n",
    "\n",
    "reg = LinearRegression().fit(x_train, y_train)\n",
    "y_hat = reg.predict(x_test)\n",
    "r_square = mean_squared_error(y_test, y_hat)\n",
    "print(f\" mean_squared_error: {r_square}\")\n",
    "\n",
    "x2 = sm.add_constant(x_train)\n",
    "\n",
    "#fit regression model\n",
    "reduced_model = sm.OLS(y_train, x_train).fit()\n",
    "\n",
    "#calculate log-likelihood of model\n",
    "reduced_ll = reduced_model.llf\n",
    "\n",
    "print(reduced_ll)\n",
    "LR_statistic = -2*(reduced_ll-full_ll)\n",
    "\n",
    "print(LR_statistic)\n",
    "\n",
    "#calculate p-value of test statistic using 2 degrees of freedom\n",
    "p_val = scipy.stats.chi2.sf(LR_statistic, 2)\n",
    "\n",
    "print(p_val)"
   ]
  },
  {
   "attachments": {},
   "cell_type": "markdown",
   "metadata": {},
   "source": [
    "1\n",
    "\n",
    "                        'total_duration', 0.9228970330357058\n",
    "                          'Trust', 0.9612209896121445\n",
    "                          'Familiarity', 0.24291665168821205\n",
    "                          'percent_duration_task', 1.4897413125223798e-26\n",
    "                          'percent_duration_user',  3.211913600964214e-19\n",
    "                           'first_gaze_on_ai_start_time', 0.29765636537039286\n",
    "                          'first_gaze_on_ai_duration', 0.07624278981045096\n",
    "                           'percent_shift_ai2task', 7.624777890547038e-24\n",
    "                           'percent_shift_ai2user', 1.8344626229848883e-17\n",
    "                           'percent_shift_task2user', 2.3075976384182373e-05\n",
    "                           'percent_shift_task2ai', 1.0\n",
    "                          'percent_shift_user2ai', 1.0\n",
    "                           'percent_shift_user2task', 1.575668309346904e-12\n",
    "                          'percent_shift_2ai',  1.0\n",
    "                           #'percent_shift_2user', \n",
    "                          'start_user_ai_acc',0.7776149204769377\n",
    "                           #'Orientation' 0.9904566805975811\n"
   ]
  },
  {
   "attachments": {},
   "cell_type": "markdown",
   "metadata": {},
   "source": [
    "2\n",
    "                        'total_duration', 0.9228970330357058\n",
    "                          'Trust', 0.9520891701773875\n",
    "                          'Familiarity', 0.24291665168821205\n",
    "                          'percent_duration_task', 1.4897413125223798e-26\n",
    "                          'percent_duration_user',  33.211913600964214e-19\n",
    "                           'first_gaze_on_ai_start_time', 0.29765636537039286\n",
    "                          'first_gaze_on_ai_duration', 0.07624278981045096\n",
    "                           'percent_shift_ai2task', 7.624777890547038e-24\n",
    "                           'percent_shift_ai2user', 1.8344626229848883e-17\n",
    "                           'percent_shift_task2user', 2.3075976384182373e-05\n",
    "                           'percent_shift_task2ai', 0.00010804344297499412\n",
    "                          'percent_shift_user2ai', 1.5756683093472642e-12\n",
    "                           'percent_shift_user2task', 1.575668309346904e-12\n",
    "                          #'percent_shift_2ai', \n",
    "                           #'percent_shift_2user', \n",
    "                          'start_user_ai_acc',0.7776149204769377\n",
    "                           'Orientation' 0.9904566805975811"
   ]
  },
  {
   "attachments": {},
   "cell_type": "markdown",
   "metadata": {},
   "source": [
    "#3\n",
    "                       'total_duration',0.919693611169743\n",
    "                          'Trust', 0.9612209896121445\n",
    "                          'Familiarity', 0.241690220574005\n",
    "                          'percent_duration_task', 8.423402843703987e-27\n",
    "                          'percent_duration_user',  2.9885697483673e-19\n",
    "                           'first_gaze_on_ai_start_time', 0.2871944749254244\n",
    "                          'first_gaze_on_ai_duration', 0.07298925464365873\n",
    "                           'percent_shift_ai2task', 2.499445729102395e-24\n",
    "                           'percent_shift_ai2user', 1.5427643059804995e-17\n",
    "                           'percent_shift_task2user', 2.2983863519219786e-05\n",
    "                           'percent_shift_task2ai', 0.0015815486096785634\n",
    "                          'percent_shift_user2ai', 0.00010613940322413948\n",
    "                           'percent_shift_user2task', 1.319407741278412e-12\n",
    "                          #'percent_shift_2ai', \n",
    "                           #'percent_shift_2user', \n",
    "                          'start_user_ai_acc',0.7704033856518365\n",
    "                           #'Orientation' "
   ]
  },
  {
   "attachments": {},
   "cell_type": "markdown",
   "metadata": {},
   "source": [
    "#4\n",
    "                       'total_duration', 0.924693476712857\n",
    "                         # 'Trust', \n",
    "                          'Familiarity', 0.236738331166421\n",
    "                          'percent_duration_task', 4.9812500439473424e-27\n",
    "                          'percent_duration_user',  1.4962303660974038e-19\n",
    "                           'first_gaze_on_ai_start_time', 0.2871944749254244\n",
    "                          'first_gaze_on_ai_duration', 0.07298925464365873\n",
    "                           'percent_shift_ai2task', 2.622259142373091e-24\n",
    "                           'percent_shift_ai2user', 7.808534760971679e-18\n",
    "                           'percent_shift_task2user', 1.9000070606968752e-05\n",
    "                           'percent_shift_task2ai', 0.0011988395362122692\n",
    "                          'percent_shift_user2ai', 9.460158848241533e-05\n",
    "                           'percent_shift_user2task', 1.152267751603713e-12\n",
    "                          #'percent_shift_2ai', \n",
    "                           #'percent_shift_2user', \n",
    "                          'start_user_ai_acc',0.7826098300428392\n",
    "                           #'Orientation' "
   ]
  },
  {
   "attachments": {},
   "cell_type": "markdown",
   "metadata": {},
   "source": [
    "#5\n",
    "                       #'total_duration', \n",
    "                         # 'Trust', \n",
    "                          'Familiarity', 0.23316824771375652\n",
    "                          'percent_duration_task', 4.9812500439473424e-27\n",
    "                          'percent_duration_user',  1.4962303660974038e-19\n",
    "                           'first_gaze_on_ai_start_time', 0.2765786019106758\n",
    "                          'first_gaze_on_ai_duration', 0.07298925464365873\n",
    "                           'percent_shift_ai2task', 2.622259142373091e-24\n",
    "                           'percent_shift_ai2user', 7.808534760971679e-18\n",
    "                           'percent_shift_task2user', 1.9000070606968752e-05\n",
    "                           'percent_shift_task2ai', 0.0011988395362122692\n",
    "                          'percent_shift_user2ai', 9.460158848241533e-05\n",
    "                           'percent_shift_user2task', 1.152267751603713e-12\n",
    "                          #'percent_shift_2ai', \n",
    "                           #'percent_shift_2user', \n",
    "                          'start_user_ai_acc', 0.6772627877069571\n",
    "                           #'Orientation' "
   ]
  },
  {
   "attachments": {},
   "cell_type": "markdown",
   "metadata": {},
   "source": [
    "#6\n",
    "                       #'total_duration', \n",
    "                         # 'Trust', \n",
    "                          'Familiarity', 0.26553205104682953\n",
    "                          'percent_duration_task', 4.9812500439473424e-27\n",
    "                          'percent_duration_user',  1.4962303660974038e-19\n",
    "                           'first_gaze_on_ai_start_time', 0.29573208724139105\n",
    "                          'first_gaze_on_ai_duration', 0.07298925464365873\n",
    "                           'percent_shift_ai2task', 2.622259142373091e-24\n",
    "                           'percent_shift_ai2user', 7.808534760971679e-18\n",
    "                           'percent_shift_task2user', 1.9000070606968752e-05\n",
    "                           'percent_shift_task2ai', 0.0011988395362122692\n",
    "                          'percent_shift_user2ai', 9.460158848241533e-05\n",
    "                           'percent_shift_user2task', 1.152267751603713e-12\n",
    "                          #'percent_shift_2ai', \n",
    "                           #'percent_shift_2user', \n",
    "                          #'start_user_ai_acc', \n",
    "                           #'Orientation'"
   ]
  },
  {
   "attachments": {},
   "cell_type": "markdown",
   "metadata": {},
   "source": [
    "#7\n",
    "                       #'total_duration', \n",
    "                         # 'Trust', \n",
    "                          'Familiarity', 0.2722868081654787\n",
    "                          'percent_duration_task', 4.9812500439473424e-27\n",
    "                          'percent_duration_user',  1.4962303660974038e-19\n",
    "                          # 'first_gaze_on_ai_start_time', \n",
    "                          'first_gaze_on_ai_duration', 0.07298925464365873\n",
    "                           'percent_shift_ai2task', 2.622259142373091e-24\n",
    "                           'percent_shift_ai2user', 7.808534760971679e-18\n",
    "                           'percent_shift_task2user', 1.9000070606968752e-05\n",
    "                           'percent_shift_task2ai', 0.0011988395362122692\n",
    "                          'percent_shift_user2ai', 9.460158848241533e-05\n",
    "                           'percent_shift_user2task', 1.152267751603713e-12\n",
    "                          #'percent_shift_2ai', \n",
    "                           #'percent_shift_2user', \n",
    "                          #'start_user_ai_acc', \n",
    "                           #'Orientation'"
   ]
  },
  {
   "attachments": {},
   "cell_type": "markdown",
   "metadata": {},
   "source": [
    "#8\n",
    "                       #'total_duration', \n",
    "                         # 'Trust', \n",
    "                         # 'Familiarity', \n",
    "                          'percent_duration_task', 4.9812500439473424e-27\n",
    "                          'percent_duration_user',  1.4962303660974038e-19\n",
    "                          # 'first_gaze_on_ai_start_time', \n",
    "                          'first_gaze_on_ai_duration', 0.07298925464365873\n",
    "                           'percent_shift_ai2task', 2.622259142373091e-24\n",
    "                           'percent_shift_ai2user', 7.808534760971679e-18\n",
    "                           'percent_shift_task2user', 1.9000070606968752e-05\n",
    "                           'percent_shift_task2ai', 0.0011988395362122692\n",
    "                          'percent_shift_user2ai', 9.460158848241533e-05\n",
    "                           'percent_shift_user2task', 1.152267751603713e-12\n",
    "                          #'percent_shift_2ai', \n",
    "                           #'percent_shift_2user', \n",
    "                          #'start_user_ai_acc', \n",
    "                           #'Orientation'"
   ]
  }
 ],
 "metadata": {
  "kernelspec": {
   "display_name": "base",
   "language": "python",
   "name": "python3"
  },
  "language_info": {
   "codemirror_mode": {
    "name": "ipython",
    "version": 3
   },
   "file_extension": ".py",
   "mimetype": "text/x-python",
   "name": "python",
   "nbconvert_exporter": "python",
   "pygments_lexer": "ipython3",
   "version": "3.8.8"
  },
  "orig_nbformat": 4,
  "vscode": {
   "interpreter": {
    "hash": "de797bc84f5a1a6bd356fe47c6f70ecdd445ad92c81aded22fc9fa3f79613692"
   }
  }
 },
 "nbformat": 4,
 "nbformat_minor": 2
}
